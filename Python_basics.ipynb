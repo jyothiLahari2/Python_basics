{
 "cells": [
  {
   "cell_type": "markdown",
   "id": "071b7cd7",
   "metadata": {},
   "source": [
    "1.Given a string, return the string made of its first two chars, so the String \"Hello\" yields \"He\". If the string is shorter than length 2, return whatever there is, so \"X\" yields \"X\", and the empty string \"\" yields the empty string \"\".\n",
    "\n"
   ]
  },
  {
   "cell_type": "markdown",
   "id": "6fd9c12b",
   "metadata": {},
   "source": [
    "first_two('Hello') → 'He'"
   ]
  },
  {
   "cell_type": "code",
   "execution_count": 1,
   "id": "d2e1c225",
   "metadata": {},
   "outputs": [],
   "source": [
    "a='Hello'"
   ]
  },
  {
   "cell_type": "code",
   "execution_count": 2,
   "id": "2ea9fcc3",
   "metadata": {},
   "outputs": [
    {
     "data": {
      "text/plain": [
       "'He'"
      ]
     },
     "execution_count": 2,
     "metadata": {},
     "output_type": "execute_result"
    }
   ],
   "source": [
    "a[0:2]"
   ]
  },
  {
   "cell_type": "markdown",
   "id": "f4cc2b1f",
   "metadata": {},
   "source": [
    "first_two('abcdefg') → 'ab'"
   ]
  },
  {
   "cell_type": "code",
   "execution_count": 3,
   "id": "d68bfdcf",
   "metadata": {},
   "outputs": [],
   "source": [
    "b='abcdefg'"
   ]
  },
  {
   "cell_type": "code",
   "execution_count": 4,
   "id": "1054f740",
   "metadata": {},
   "outputs": [
    {
     "data": {
      "text/plain": [
       "'ab'"
      ]
     },
     "execution_count": 4,
     "metadata": {},
     "output_type": "execute_result"
    }
   ],
   "source": [
    "b[0:2]"
   ]
  },
  {
   "cell_type": "markdown",
   "id": "7cd09a2f",
   "metadata": {},
   "source": [
    "first_two('ab') → 'ab'"
   ]
  },
  {
   "cell_type": "code",
   "execution_count": 5,
   "id": "9c61c188",
   "metadata": {},
   "outputs": [],
   "source": [
    "c='ab'"
   ]
  },
  {
   "cell_type": "code",
   "execution_count": 7,
   "id": "3757180a",
   "metadata": {},
   "outputs": [
    {
     "data": {
      "text/plain": [
       "'ab'"
      ]
     },
     "execution_count": 7,
     "metadata": {},
     "output_type": "execute_result"
    }
   ],
   "source": [
    "c[0:2]"
   ]
  },
  {
   "cell_type": "markdown",
   "id": "690247ab",
   "metadata": {},
   "source": [
    "2.Given a string, return a new string made of 3 copies of the last 2 chars of the original string. The string length will be at least 2.\n"
   ]
  },
  {
   "cell_type": "markdown",
   "id": "6d324c41",
   "metadata": {},
   "source": [
    "extra_end('Hello') → 'lololo'"
   ]
  },
  {
   "cell_type": "code",
   "execution_count": 12,
   "id": "6ac9a3ac",
   "metadata": {},
   "outputs": [
    {
     "data": {
      "text/plain": [
       "'lololo'"
      ]
     },
     "execution_count": 12,
     "metadata": {},
     "output_type": "execute_result"
    }
   ],
   "source": [
    "a[3:5]*3"
   ]
  },
  {
   "cell_type": "markdown",
   "id": "bba2cae2",
   "metadata": {},
   "source": [
    "extra_end('ab') → 'ababab'"
   ]
  },
  {
   "cell_type": "code",
   "execution_count": 14,
   "id": "e773189b",
   "metadata": {},
   "outputs": [
    {
     "data": {
      "text/plain": [
       "'ababab'"
      ]
     },
     "execution_count": 14,
     "metadata": {},
     "output_type": "execute_result"
    }
   ],
   "source": [
    "b[0:2]*3"
   ]
  },
  {
   "cell_type": "markdown",
   "id": "90cbdabc",
   "metadata": {},
   "source": [
    "extra_end('Hi') → 'HiHiHi' "
   ]
  },
  {
   "cell_type": "code",
   "execution_count": 15,
   "id": "6262ea74",
   "metadata": {},
   "outputs": [
    {
     "data": {
      "text/plain": [
       "'ababab'"
      ]
     },
     "execution_count": 15,
     "metadata": {},
     "output_type": "execute_result"
    }
   ],
   "source": [
    "c[0:2]*3"
   ]
  },
  {
   "cell_type": "markdown",
   "id": "88eb29b3",
   "metadata": {},
   "source": [
    "3.Given a string of even length, return the first half. So the string \"WooHoo\" yields \"Woo\"."
   ]
  },
  {
   "cell_type": "markdown",
   "id": "4374d443",
   "metadata": {},
   "source": [
    "first_half('WooHoo') → 'Woo'"
   ]
  },
  {
   "cell_type": "code",
   "execution_count": 16,
   "id": "7a2a5588",
   "metadata": {},
   "outputs": [],
   "source": [
    "d='WooHoo'"
   ]
  },
  {
   "cell_type": "code",
   "execution_count": 18,
   "id": "7f388dc1",
   "metadata": {},
   "outputs": [
    {
     "data": {
      "text/plain": [
       "'Woo'"
      ]
     },
     "execution_count": 18,
     "metadata": {},
     "output_type": "execute_result"
    }
   ],
   "source": [
    "d[0:3]"
   ]
  },
  {
   "cell_type": "markdown",
   "id": "781f26b5",
   "metadata": {},
   "source": [
    "first_half('HelloThere') → 'Hello'"
   ]
  },
  {
   "cell_type": "code",
   "execution_count": 19,
   "id": "ef425adb",
   "metadata": {},
   "outputs": [],
   "source": [
    "e='Hello There'"
   ]
  },
  {
   "cell_type": "code",
   "execution_count": 21,
   "id": "261fb5e8",
   "metadata": {},
   "outputs": [
    {
     "data": {
      "text/plain": [
       "'Hello'"
      ]
     },
     "execution_count": 21,
     "metadata": {},
     "output_type": "execute_result"
    }
   ],
   "source": [
    "e[0:5]"
   ]
  },
  {
   "cell_type": "markdown",
   "id": "b93bc331",
   "metadata": {},
   "source": [
    "first_half('abcdef') → 'abc'"
   ]
  },
  {
   "cell_type": "code",
   "execution_count": 22,
   "id": "a804da1e",
   "metadata": {},
   "outputs": [],
   "source": [
    "f='abcdef'"
   ]
  },
  {
   "cell_type": "code",
   "execution_count": 23,
   "id": "1ea2e883",
   "metadata": {},
   "outputs": [
    {
     "data": {
      "text/plain": [
       "'abc'"
      ]
     },
     "execution_count": 23,
     "metadata": {},
     "output_type": "execute_result"
    }
   ],
   "source": [
    "f[0:3]"
   ]
  },
  {
   "cell_type": "markdown",
   "id": "d1888800",
   "metadata": {},
   "source": [
    "4.Given a string, return a version without the first and last char, so \"Hello\" yields \"ell\". The string length will be at least 2."
   ]
  },
  {
   "cell_type": "markdown",
   "id": "76e376b4",
   "metadata": {},
   "source": [
    "without_end('Hello') → 'ell'"
   ]
  },
  {
   "cell_type": "code",
   "execution_count": 24,
   "id": "bed10296",
   "metadata": {},
   "outputs": [
    {
     "data": {
      "text/plain": [
       "'ell'"
      ]
     },
     "execution_count": 24,
     "metadata": {},
     "output_type": "execute_result"
    }
   ],
   "source": [
    "a[1:4]"
   ]
  },
  {
   "cell_type": "markdown",
   "id": "60956577",
   "metadata": {},
   "source": [
    "without_end('java') → 'av'"
   ]
  },
  {
   "cell_type": "code",
   "execution_count": 26,
   "id": "3d2943b3",
   "metadata": {},
   "outputs": [],
   "source": [
    "g='java'"
   ]
  },
  {
   "cell_type": "code",
   "execution_count": 27,
   "id": "f13c5558",
   "metadata": {},
   "outputs": [
    {
     "data": {
      "text/plain": [
       "'av'"
      ]
     },
     "execution_count": 27,
     "metadata": {},
     "output_type": "execute_result"
    }
   ],
   "source": [
    "g[1:3]"
   ]
  },
  {
   "cell_type": "markdown",
   "id": "85dc683b",
   "metadata": {},
   "source": [
    "without_end('coding') → 'odin'"
   ]
  },
  {
   "cell_type": "code",
   "execution_count": 29,
   "id": "e32a7bcd",
   "metadata": {},
   "outputs": [],
   "source": [
    "h='coding'"
   ]
  },
  {
   "cell_type": "code",
   "execution_count": 30,
   "id": "a8d6993a",
   "metadata": {},
   "outputs": [
    {
     "data": {
      "text/plain": [
       "'odin'"
      ]
     },
     "execution_count": 30,
     "metadata": {},
     "output_type": "execute_result"
    }
   ],
   "source": [
    "h[1:5]"
   ]
  },
  {
   "cell_type": "markdown",
   "id": "8dca21d8",
   "metadata": {},
   "source": [
    "Given two strings, a and b, return the result of putting them together in the order abba, e.g. \"Hi\" and \"Bye\" returns \"HiByeByeHi\"."
   ]
  },
  {
   "cell_type": "markdown",
   "id": "9ba8dca4",
   "metadata": {},
   "source": [
    "make_abba('Hi', 'Bye') → 'HiByeByeHi'"
   ]
  },
  {
   "cell_type": "code",
   "execution_count": 40,
   "id": "e0dbbb1c",
   "metadata": {},
   "outputs": [
    {
     "name": "stdout",
     "output_type": "stream",
     "text": [
      "HiByeByeHi\n"
     ]
    }
   ],
   "source": [
    "def make_abba(a,b):\n",
    "    return(a+b+b+a)\n",
    "a='Hi'\n",
    "b='Bye'\n",
    "result=make_abba(a,b)\n",
    "\n",
    "print(result)"
   ]
  },
  {
   "cell_type": "markdown",
   "id": "36bd463a",
   "metadata": {},
   "source": [
    "make_abba('Yo', 'Alice') → 'YoAliceAliceYo'"
   ]
  },
  {
   "cell_type": "code",
   "execution_count": 41,
   "id": "c0ea7fe4",
   "metadata": {},
   "outputs": [
    {
     "name": "stdout",
     "output_type": "stream",
     "text": [
      "YoAliceYoAlice\n"
     ]
    }
   ],
   "source": [
    "def make_abba(a,b):\n",
    "    return(a+b+a+b)\n",
    "a='Yo'\n",
    "b='Alice'\n",
    "result=make_abba(a,b)\n",
    "\n",
    "print(result)"
   ]
  },
  {
   "cell_type": "markdown",
   "id": "0aa39fed",
   "metadata": {},
   "source": [
    "make_abba('What', 'Up') → 'WhatUpUpWhat'"
   ]
  },
  {
   "cell_type": "code",
   "execution_count": 46,
   "id": "28676720",
   "metadata": {},
   "outputs": [
    {
     "name": "stdout",
     "output_type": "stream",
     "text": [
      "WhatUpUpWhat\n"
     ]
    }
   ],
   "source": [
    "def make_abba(c,d):\n",
    "    return(c+d+d+c)\n",
    "c='What'\n",
    "d='Up'\n",
    "\n",
    "result=make_abba(c,d)\n",
    "\n",
    "print(result)"
   ]
  },
  {
   "cell_type": "markdown",
   "id": "0ba0e71f",
   "metadata": {},
   "source": [
    "Given 2 strings, a and b, return a string of the form short+long+short, with the shorter string on the outside and the longer string on the inside. The strings will not be the same length, but they may be empty (length 0)."
   ]
  },
  {
   "cell_type": "markdown",
   "id": "62017186",
   "metadata": {},
   "source": [
    "combo_string('Hello', 'hi') → 'hiHellohi'"
   ]
  },
  {
   "cell_type": "code",
   "execution_count": 52,
   "id": "868fe17b",
   "metadata": {},
   "outputs": [
    {
     "name": "stdout",
     "output_type": "stream",
     "text": [
      "hiHellohi\n"
     ]
    }
   ],
   "source": [
    "def combo_string(a,b):\n",
    "    if len(a) < len(b):\n",
    "        return a+b+a\n",
    "    else:\n",
    "        return b+a+b\n",
    "\n",
    "a='hi'\n",
    "b='Hello'\n",
    "result=combo_string(a,b)\n",
    "\n",
    "print(result)"
   ]
  },
  {
   "cell_type": "markdown",
   "id": "1853710d",
   "metadata": {},
   "source": [
    "combo_string('hi', 'Hello') → 'hiHellohi'"
   ]
  },
  {
   "cell_type": "code",
   "execution_count": 56,
   "id": "dc03bf69",
   "metadata": {},
   "outputs": [
    {
     "name": "stdout",
     "output_type": "stream",
     "text": [
      "hiHellohi\n"
     ]
    }
   ],
   "source": [
    "def combo_string(c,d):\n",
    "    if len(c) < len(d):\n",
    "        return c+d+c\n",
    "    else:\n",
    "        return d+c+d\n",
    "c='Hello'\n",
    "d='hi'\n",
    "result=combo_string(c,d)\n",
    "\n",
    "print(result)"
   ]
  },
  {
   "cell_type": "markdown",
   "id": "b1f5b73a",
   "metadata": {},
   "source": [
    "combo_string('aaa', 'b') → 'baaab'\n"
   ]
  },
  {
   "cell_type": "code",
   "execution_count": 57,
   "id": "f626779f",
   "metadata": {},
   "outputs": [
    {
     "name": "stdout",
     "output_type": "stream",
     "text": [
      "baaab\n"
     ]
    }
   ],
   "source": [
    "def combo_string(e,f):\n",
    "    if len(e) < len(f):\n",
    "        return e+f+e\n",
    "    else:\n",
    "        return f+e+f\n",
    "e='aaa'\n",
    "f='b'\n",
    "result=combo_string(e,f)\n",
    "\n",
    "print(result)"
   ]
  },
  {
   "cell_type": "markdown",
   "id": "ecacdbf7",
   "metadata": {},
   "source": [
    "Given 2 strings, return their concatenation, except omit the first char of each. The strings will be at least length 1."
   ]
  },
  {
   "cell_type": "markdown",
   "id": "6c9ed4b6",
   "metadata": {},
   "source": [
    "non_start('Hello', 'There') → 'ellohere'"
   ]
  },
  {
   "cell_type": "code",
   "execution_count": 60,
   "id": "298c86bc",
   "metadata": {},
   "outputs": [
    {
     "name": "stdout",
     "output_type": "stream",
     "text": [
      "HelloThere\n"
     ]
    }
   ],
   "source": [
    "def non_start(a,b):\n",
    "    return a+b\n",
    "\n",
    "a= 'Hello'\n",
    "b='There'\n",
    "result=non_start(a,b)\n",
    "\n",
    "print(result)"
   ]
  },
  {
   "cell_type": "code",
   "execution_count": 65,
   "id": "0306d177",
   "metadata": {},
   "outputs": [
    {
     "data": {
      "text/plain": [
       "'ellohere'"
      ]
     },
     "execution_count": 65,
     "metadata": {},
     "output_type": "execute_result"
    }
   ],
   "source": [
    "a[1:5]+b[1:5]"
   ]
  },
  {
   "cell_type": "markdown",
   "id": "623cbd91",
   "metadata": {},
   "source": [
    "non_start('java', 'code') → 'avaode'\n"
   ]
  },
  {
   "cell_type": "code",
   "execution_count": 66,
   "id": "01a753e4",
   "metadata": {},
   "outputs": [
    {
     "name": "stdout",
     "output_type": "stream",
     "text": [
      "javacode\n"
     ]
    }
   ],
   "source": [
    "def non_start(c,d):\n",
    "    return c+d\n",
    "\n",
    "c= 'java'\n",
    "d='code'\n",
    "result=non_start(c,d)\n",
    "\n",
    "print(result)"
   ]
  },
  {
   "cell_type": "code",
   "execution_count": 67,
   "id": "0705e711",
   "metadata": {},
   "outputs": [
    {
     "data": {
      "text/plain": [
       "'avaode'"
      ]
     },
     "execution_count": 67,
     "metadata": {},
     "output_type": "execute_result"
    }
   ],
   "source": [
    "c[1:4]+d[1:4]"
   ]
  },
  {
   "cell_type": "markdown",
   "id": "18f494f7",
   "metadata": {},
   "source": [
    "non_start('shotl', 'java') → 'hotlava'\n"
   ]
  },
  {
   "cell_type": "code",
   "execution_count": 68,
   "id": "1ab13f93",
   "metadata": {},
   "outputs": [
    {
     "name": "stdout",
     "output_type": "stream",
     "text": [
      "shotljava\n"
     ]
    }
   ],
   "source": [
    "def non_start(e,f):\n",
    "    return e+f\n",
    "\n",
    "e= 'shotl'\n",
    "f='java'\n",
    "result=non_start(e,f)\n",
    "\n",
    "print(result)"
   ]
  },
  {
   "cell_type": "code",
   "execution_count": 69,
   "id": "7d981399",
   "metadata": {},
   "outputs": [
    {
     "data": {
      "text/plain": [
       "'hotlava'"
      ]
     },
     "execution_count": 69,
     "metadata": {},
     "output_type": "execute_result"
    }
   ],
   "source": [
    "e[1:5]+f[1:4]"
   ]
  },
  {
   "cell_type": "markdown",
   "id": "cbf2e7ef",
   "metadata": {},
   "source": [
    "\n",
    "Given a string, return a \"rotated left 2\" version where the first 2 chars are moved to the end. The string length will be at least 2.\n"
   ]
  },
  {
   "cell_type": "markdown",
   "id": "f2561ea2",
   "metadata": {},
   "source": [
    "left2('Hello') → 'lloHe'"
   ]
  },
  {
   "cell_type": "code",
   "execution_count": 70,
   "id": "c9cdb576",
   "metadata": {},
   "outputs": [],
   "source": [
    "left2='Hello'"
   ]
  },
  {
   "cell_type": "code",
   "execution_count": 74,
   "id": "cfdc05c4",
   "metadata": {},
   "outputs": [
    {
     "data": {
      "text/plain": [
       "'lloHe'"
      ]
     },
     "execution_count": 74,
     "metadata": {},
     "output_type": "execute_result"
    }
   ],
   "source": [
    "left2[2:]+left2[:2]"
   ]
  },
  {
   "cell_type": "markdown",
   "id": "7e741e59",
   "metadata": {},
   "source": [
    "left2('java') → 'vaja'\n"
   ]
  },
  {
   "cell_type": "code",
   "execution_count": 75,
   "id": "dd9037be",
   "metadata": {},
   "outputs": [],
   "source": [
    "left2='java'"
   ]
  },
  {
   "cell_type": "code",
   "execution_count": 77,
   "id": "0ee2a3bf",
   "metadata": {},
   "outputs": [
    {
     "data": {
      "text/plain": [
       "'vaja'"
      ]
     },
     "execution_count": 77,
     "metadata": {},
     "output_type": "execute_result"
    }
   ],
   "source": [
    "left2[2:]+left2[:2]"
   ]
  },
  {
   "cell_type": "markdown",
   "id": "52520740",
   "metadata": {},
   "source": [
    "left2('Hi') → 'Hi'"
   ]
  },
  {
   "cell_type": "code",
   "execution_count": 78,
   "id": "f014ee61",
   "metadata": {},
   "outputs": [],
   "source": [
    "left2 ='Hi'"
   ]
  },
  {
   "cell_type": "code",
   "execution_count": 79,
   "id": "632c97f3",
   "metadata": {},
   "outputs": [
    {
     "data": {
      "text/plain": [
       "'Hi'"
      ]
     },
     "execution_count": 79,
     "metadata": {},
     "output_type": "execute_result"
    }
   ],
   "source": [
    "left2[:2]"
   ]
  },
  {
   "cell_type": "code",
   "execution_count": null,
   "id": "fa4ee8b2",
   "metadata": {},
   "outputs": [],
   "source": []
  }
 ],
 "metadata": {
  "kernelspec": {
   "display_name": "Python 3 (ipykernel)",
   "language": "python",
   "name": "python3"
  },
  "language_info": {
   "codemirror_mode": {
    "name": "ipython",
    "version": 3
   },
   "file_extension": ".py",
   "mimetype": "text/x-python",
   "name": "python",
   "nbconvert_exporter": "python",
   "pygments_lexer": "ipython3",
   "version": "3.11.6"
  }
 },
 "nbformat": 4,
 "nbformat_minor": 5
}
