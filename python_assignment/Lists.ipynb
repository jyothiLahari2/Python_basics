{
 "cells": [
  {
   "cell_type": "markdown",
   "id": "7049b495",
   "metadata": {},
   "source": [
    "\n",
    "lists"
   ]
  },
  {
   "cell_type": "markdown",
   "id": "610fc21c",
   "metadata": {},
   "source": [
    "List : lists are used to store multiple values in a single variables"
   ]
  },
  {
   "cell_type": "code",
   "execution_count": 25,
   "id": "09de769a",
   "metadata": {},
   "outputs": [
    {
     "name": "stdout",
     "output_type": "stream",
     "text": [
      "[1, 2, 3, 4, 5]\n"
     ]
    }
   ],
   "source": [
    "a = [1,2,3,4,5]\n",
    "print(a)"
   ]
  },
  {
   "cell_type": "markdown",
   "id": "a874dca0",
   "metadata": {},
   "source": [
    "How do you access elements in a list?"
   ]
  },
  {
   "cell_type": "markdown",
   "id": "c1e90ac0",
   "metadata": {},
   "source": [
    "List items are indexed we can access them by refering to their indexing."
   ]
  },
  {
   "cell_type": "code",
   "execution_count": 26,
   "id": "4e605736",
   "metadata": {},
   "outputs": [
    {
     "name": "stdout",
     "output_type": "stream",
     "text": [
      "5\n"
     ]
    }
   ],
   "source": [
    "print(a[-1])"
   ]
  },
  {
   "cell_type": "code",
   "execution_count": 27,
   "id": "a9ca25fa",
   "metadata": {},
   "outputs": [
    {
     "name": "stdout",
     "output_type": "stream",
     "text": [
      "3\n"
     ]
    }
   ],
   "source": [
    "print(a[2])"
   ]
  },
  {
   "cell_type": "code",
   "execution_count": 28,
   "id": "78a4e5a3",
   "metadata": {},
   "outputs": [
    {
     "name": "stdout",
     "output_type": "stream",
     "text": [
      "1\n"
     ]
    }
   ],
   "source": [
    "print(a[0])"
   ]
  },
  {
   "cell_type": "code",
   "execution_count": 29,
   "id": "1d2fa70d",
   "metadata": {},
   "outputs": [
    {
     "name": "stdout",
     "output_type": "stream",
     "text": [
      "[2, 3, 4]\n"
     ]
    }
   ],
   "source": [
    "print(a[1:4])"
   ]
  },
  {
   "cell_type": "code",
   "execution_count": 30,
   "id": "15524a98",
   "metadata": {},
   "outputs": [
    {
     "name": "stdout",
     "output_type": "stream",
     "text": [
      "[1, 2]\n"
     ]
    }
   ],
   "source": [
    "print(a[:2])"
   ]
  },
  {
   "cell_type": "code",
   "execution_count": 31,
   "id": "b1a7e9b9",
   "metadata": {},
   "outputs": [
    {
     "name": "stdout",
     "output_type": "stream",
     "text": [
      "[3, 4, 5]\n"
     ]
    }
   ],
   "source": [
    "print(a[2:])"
   ]
  },
  {
   "cell_type": "markdown",
   "id": "dad594b4",
   "metadata": {},
   "source": [
    "why we use negtive indexing? if we want to start searching from last value"
   ]
  },
  {
   "cell_type": "code",
   "execution_count": 32,
   "id": "bb7f10b4",
   "metadata": {},
   "outputs": [
    {
     "name": "stdout",
     "output_type": "stream",
     "text": [
      "[3, 4]\n"
     ]
    }
   ],
   "source": [
    "print(a[-3:-1])"
   ]
  },
  {
   "cell_type": "code",
   "execution_count": 21,
   "id": "cddbe1b2",
   "metadata": {},
   "outputs": [
    {
     "data": {
      "text/plain": [
       "'irahal'"
      ]
     },
     "execution_count": 21,
     "metadata": {},
     "output_type": "execute_result"
    }
   ],
   "source": [
    "a=\"lahari\"\n",
    "a[::-1]"
   ]
  },
  {
   "cell_type": "markdown",
   "id": "fda15f81",
   "metadata": {},
   "source": [
    "How do you append an element to a list?"
   ]
  },
  {
   "cell_type": "code",
   "execution_count": 33,
   "id": "130df85b",
   "metadata": {},
   "outputs": [
    {
     "name": "stdout",
     "output_type": "stream",
     "text": [
      "[1, 2, 3, 4, 5, 6]\n"
     ]
    }
   ],
   "source": [
    "a.append(6)\n",
    "print(a)"
   ]
  },
  {
   "cell_type": "markdown",
   "id": "1108e3e9",
   "metadata": {},
   "source": [
    "How do you remove an element from a list by value?"
   ]
  },
  {
   "cell_type": "code",
   "execution_count": 34,
   "id": "21b87d19",
   "metadata": {},
   "outputs": [
    {
     "name": "stdout",
     "output_type": "stream",
     "text": [
      "[2, 3, 4, 5, 6]\n"
     ]
    }
   ],
   "source": [
    "a.remove(1)\n",
    "print(a)"
   ]
  },
  {
   "cell_type": "code",
   "execution_count": 35,
   "id": "dbe6fd43",
   "metadata": {},
   "outputs": [
    {
     "name": "stdout",
     "output_type": "stream",
     "text": [
      "5\n"
     ]
    }
   ],
   "source": [
    "#Write a Python code to find the length of a list.\n",
    "print(len(a))"
   ]
  },
  {
   "cell_type": "markdown",
   "id": "7ec01d98",
   "metadata": {},
   "source": [
    "Explain list slicing in Python with an example."
   ]
  },
  {
   "cell_type": "markdown",
   "id": "f981fc44",
   "metadata": {},
   "source": [
    "we use list slicing to extract a portion of list by giving start of index and end of index."
   ]
  },
  {
   "cell_type": "code",
   "execution_count": 36,
   "id": "d5dfbedc",
   "metadata": {},
   "outputs": [
    {
     "name": "stdout",
     "output_type": "stream",
     "text": [
      "['jyothi', 'lahari', 'Deekshit', 'lavanya']\n"
     ]
    }
   ],
   "source": [
    "a=[\"putta\",\"jyothi\",\"lahari\",\"Deekshit\",\"lavanya\",\"Raja\",\"saraswathi\",\"karthik\"]\n",
    "slicing = (a[1:5])\n",
    "print(slicing)"
   ]
  },
  {
   "cell_type": "markdown",
   "id": "259df3be",
   "metadata": {},
   "source": [
    "How do you check if an element exists in a list?"
   ]
  },
  {
   "cell_type": "code",
   "execution_count": 38,
   "id": "8d213369",
   "metadata": {},
   "outputs": [
    {
     "name": "stdout",
     "output_type": "stream",
     "text": [
      "it exists\n"
     ]
    }
   ],
   "source": [
    "ab=\"jyothi\"\n",
    "\n",
    "if ab in a:\n",
    "    print(\"it exists\")\n",
    "else:\n",
    "    print(\"it does not exist\")"
   ]
  },
  {
   "cell_type": "code",
   "execution_count": 42,
   "id": "768df7b7",
   "metadata": {},
   "outputs": [
    {
     "name": "stdout",
     "output_type": "stream",
     "text": [
      "raja does not exists in a list.\n"
     ]
    }
   ],
   "source": [
    "abc = \"raja\"\n",
    "\n",
    "if abc in a:\n",
    "    print(f\"{abc} exists in a list.\")\n",
    "else:\n",
    "    print(f\"{abc} does not exists in a list.\")"
   ]
  },
  {
   "cell_type": "code",
   "execution_count": 44,
   "id": "37d9e1bb",
   "metadata": {},
   "outputs": [
    {
     "name": "stdout",
     "output_type": "stream",
     "text": [
      "Raja exists in a list.\n"
     ]
    }
   ],
   "source": [
    "abc = \"Raja\"\n",
    "\n",
    "if abc in a:\n",
    "    print(f\"{abc} exists in a list.\")\n",
    "else:\n",
    "    print(f\"{abc} does not exists in a list.\")"
   ]
  },
  {
   "cell_type": "markdown",
   "id": "04ec95da",
   "metadata": {},
   "source": [
    "Write a Python code to reverse a list."
   ]
  },
  {
   "cell_type": "code",
   "execution_count": 45,
   "id": "c5895126",
   "metadata": {},
   "outputs": [
    {
     "name": "stdout",
     "output_type": "stream",
     "text": [
      "['putta', 'jyothi', 'lahari', 'Deekshit', 'lavanya', 'Raja', 'saraswathi', 'karthik']\n"
     ]
    }
   ],
   "source": [
    "a.reverse()\n",
    "print(a)\n"
   ]
  },
  {
   "cell_type": "code",
   "execution_count": 47,
   "id": "2f72c4b7",
   "metadata": {},
   "outputs": [
    {
     "name": "stdout",
     "output_type": "stream",
     "text": [
      "['Jyothi', 'Lahari', 'putta']\n"
     ]
    }
   ],
   "source": [
    "b=[\"Jyothi\",\"putta\",\"Lahari\",\"putta\"]\n",
    "b.remove(\"putta\")\n",
    "print(b)"
   ]
  },
  {
   "cell_type": "markdown",
   "id": "b9b8058a",
   "metadata": {},
   "source": [
    "Write a Python function to remove duplicate elements from a list."
   ]
  },
  {
   "cell_type": "code",
   "execution_count": 22,
   "id": "7d6e0dad",
   "metadata": {},
   "outputs": [],
   "source": [
    "def remove_dup(input_list):\n",
    "    original_set=set(input_list)\n",
    "    original_list=list(original_set)\n",
    "    return original_list"
   ]
  },
  {
   "cell_type": "code",
   "execution_count": 23,
   "id": "5b4e9900",
   "metadata": {},
   "outputs": [
    {
     "name": "stdout",
     "output_type": "stream",
     "text": [
      "Original list: [1, 2, 3, 3, 4, 4, 5]\n",
      "List after removing duplicates: [1, 2, 3, 4, 5]\n"
     ]
    }
   ],
   "source": [
    "original_list = [1, 2, 3, 3, 4, 4, 5]\n",
    "print(\"Original list:\", original_list)\n",
    "result_list = remove_dup(original_list)\n",
    "print(\"List after removing duplicates:\", result_list)"
   ]
  },
  {
   "cell_type": "markdown",
   "id": "9dae3d8d",
   "metadata": {},
   "source": [
    "Write a Python code to find the second largest element in a list."
   ]
  },
  {
   "cell_type": "code",
   "execution_count": 24,
   "id": "572be051",
   "metadata": {},
   "outputs": [
    {
     "name": "stdout",
     "output_type": "stream",
     "text": [
      "original_list: [1, 2, 3, 4, 5, 8, 7, 9]\n",
      "second largest element: 8\n"
     ]
    }
   ],
   "source": [
    "def second_largest(input_list):\n",
    "    sorted_list = sorted(input_list, reverse=True)\n",
    "    return sorted_list[1]\n",
    "\n",
    "original_element = [1,2,3,4,5,8,7,9]\n",
    "print(\"original_list:\",original_element)\n",
    "result = second_largest(original_element)\n",
    "print(\"second largest element:\", result)"
   ]
  },
  {
   "cell_type": "markdown",
   "id": "43569d61",
   "metadata": {},
   "source": [
    "How do you sort a list in Python? Explain the difference between sorted() and sort() methods."
   ]
  },
  {
   "cell_type": "markdown",
   "id": "23c2ff80",
   "metadata": {},
   "source": [
    "sorted :  returns a new sorted list without modifying the original list. It takes an iterable (such as a list) as its argument and returns a new list containing the sorted elements.\n",
    "sort : sorts the elements of the list in-place, meaning it modifies the original list. It does not return a new list but sorts the existing list itself."
   ]
  },
  {
   "cell_type": "markdown",
   "id": "f2b94841",
   "metadata": {},
   "source": [
    "Write a Python function to merge two sorted lists into a single sorted list."
   ]
  },
  {
   "cell_type": "code",
   "execution_count": 84,
   "id": "4802b2c4",
   "metadata": {},
   "outputs": [
    {
     "name": "stdout",
     "output_type": "stream",
     "text": [
      "[1, 2, 3, 4, 5, 6, 7, 8, 9, 10]\n"
     ]
    }
   ],
   "source": [
    "a =[1,2,3,4,5]\n",
    "b =[6,7,8,9,10]\n",
    "print(a+b)"
   ]
  },
  {
   "cell_type": "code",
   "execution_count": 85,
   "id": "ae4ba1ee",
   "metadata": {},
   "outputs": [],
   "source": [
    "a=[1,2,3,7,5]\n",
    "b=[6,14,7,13,8,9,10]\n",
    "a.extend(b)"
   ]
  },
  {
   "cell_type": "code",
   "execution_count": 86,
   "id": "dc9a6afb",
   "metadata": {},
   "outputs": [
    {
     "name": "stdout",
     "output_type": "stream",
     "text": [
      "[1, 2, 3, 7, 5, 6, 14, 7, 13, 8, 9, 10]\n"
     ]
    }
   ],
   "source": [
    "print(a)"
   ]
  },
  {
   "cell_type": "code",
   "execution_count": 87,
   "id": "90f6bc69",
   "metadata": {},
   "outputs": [],
   "source": [
    "a.sort()"
   ]
  },
  {
   "cell_type": "code",
   "execution_count": 88,
   "id": "3fad9a5a",
   "metadata": {},
   "outputs": [
    {
     "name": "stdout",
     "output_type": "stream",
     "text": [
      "[1, 2, 3, 5, 6, 7, 7, 8, 9, 10, 13, 14]\n"
     ]
    }
   ],
   "source": [
    "print(a)"
   ]
  },
  {
   "cell_type": "code",
   "execution_count": 89,
   "id": "3c0bfdd3",
   "metadata": {},
   "outputs": [
    {
     "name": "stdout",
     "output_type": "stream",
     "text": [
      "single sorted list is: [1, 2, 3, 4, 5, 6, 7, 8, 9, 10, 54, 64]\n"
     ]
    }
   ],
   "source": [
    "def merge_sorted_list(a,b):\n",
    "    a.extend(b)\n",
    "    a.sort()\n",
    "    return a\n",
    "\n",
    "a=[1,2,54,3,4,5]\n",
    "b=[6,7,8,64,9,10]\n",
    "result = merge_sorted_list(a,b)\n",
    "print(\"single sorted list is:\",result)\n"
   ]
  },
  {
   "cell_type": "markdown",
   "id": "89a6a8b6",
   "metadata": {},
   "source": [
    "Write a Python code to find the frequency of each element in a list."
   ]
  },
  {
   "cell_type": "code",
   "execution_count": 91,
   "id": "b63fa6b6",
   "metadata": {},
   "outputs": [
    {
     "data": {
      "text/plain": [
       "2"
      ]
     },
     "execution_count": 91,
     "metadata": {},
     "output_type": "execute_result"
    }
   ],
   "source": [
    "a=[1,2,3,4,5,3,4,6,2,1,2,3,4]\n",
    "\n",
    "a.count(1)\n",
    "\n"
   ]
  },
  {
   "cell_type": "code",
   "execution_count": 98,
   "id": "9a049e9a",
   "metadata": {},
   "outputs": [
    {
     "data": {
      "text/plain": [
       "4"
      ]
     },
     "execution_count": 98,
     "metadata": {},
     "output_type": "execute_result"
    }
   ],
   "source": [
    "a=[1,2,3,4,5,1,2,3,4,5,1,2,3,4,5,1,2,3,4,5]\n",
    "a.count(3)"
   ]
  },
  {
   "cell_type": "markdown",
   "id": "05230604",
   "metadata": {},
   "source": [
    "How do you convert a list of strings into a single string?"
   ]
  },
  {
   "cell_type": "code",
   "execution_count": 99,
   "id": "d86500e5",
   "metadata": {},
   "outputs": [],
   "source": [
    "a=[\"my\",\"name\",\"is\",\"lahari\"]\n",
    "b=[\"my\",\"surname\",\"is\",\"putta\"]\n",
    "a.extend(b)\n"
   ]
  },
  {
   "cell_type": "code",
   "execution_count": 100,
   "id": "cc36a7cb",
   "metadata": {},
   "outputs": [
    {
     "name": "stdout",
     "output_type": "stream",
     "text": [
      "['my', 'name', 'is', 'lahari', 'my', 'surname', 'is', 'putta']\n"
     ]
    }
   ],
   "source": [
    "print(a)"
   ]
  },
  {
   "cell_type": "code",
   "execution_count": 104,
   "id": "52f43983",
   "metadata": {},
   "outputs": [],
   "source": [
    "single_string = \" \".join(a)"
   ]
  },
  {
   "cell_type": "code",
   "execution_count": 105,
   "id": "ed88328e",
   "metadata": {},
   "outputs": [
    {
     "name": "stdout",
     "output_type": "stream",
     "text": [
      "my name is lahari my surname is putta\n"
     ]
    }
   ],
   "source": [
    "print(single_string)"
   ]
  },
  {
   "cell_type": "code",
   "execution_count": null,
   "id": "a7baf6b6",
   "metadata": {},
   "outputs": [],
   "source": []
  }
 ],
 "metadata": {
  "kernelspec": {
   "display_name": "Python 3 (ipykernel)",
   "language": "python",
   "name": "python3"
  },
  "language_info": {
   "codemirror_mode": {
    "name": "ipython",
    "version": 3
   },
   "file_extension": ".py",
   "mimetype": "text/x-python",
   "name": "python",
   "nbconvert_exporter": "python",
   "pygments_lexer": "ipython3",
   "version": "3.11.6"
  }
 },
 "nbformat": 4,
 "nbformat_minor": 5
}
