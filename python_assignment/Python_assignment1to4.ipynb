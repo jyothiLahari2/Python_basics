{
 "cells": [
  {
   "cell_type": "markdown",
   "id": "5160bbe8",
   "metadata": {},
   "source": [
    "Create a list of numbers and print each element using a for loop.\n"
   ]
  },
  {
   "cell_type": "code",
   "execution_count": 23,
   "id": "c36ae97d",
   "metadata": {},
   "outputs": [
    {
     "name": "stdout",
     "output_type": "stream",
     "text": [
      "1\n",
      "2\n",
      "3\n",
      "4\n",
      "5\n"
     ]
    }
   ],
   "source": [
    "list = [1,2,3,4,5]\n",
    "for i in list:\n",
    "    print(i)"
   ]
  },
  {
   "cell_type": "markdown",
   "id": "fdbba278",
   "metadata": {},
   "source": [
    "⁠Define a dictionary with key-value pairs representing student names and their corresponding grades.\n"
   ]
  },
  {
   "cell_type": "code",
   "execution_count": 28,
   "id": "3ae85ee0",
   "metadata": {},
   "outputs": [],
   "source": [
    "dict = {\n",
    "    \"Putta\":\"A\",\n",
    "    \"Jyothi\":\"B\",\n",
    "    \"Lahari\":\"c\"\n",
    "}"
   ]
  },
  {
   "cell_type": "code",
   "execution_count": 29,
   "id": "2ca6cc22",
   "metadata": {},
   "outputs": [
    {
     "name": "stdout",
     "output_type": "stream",
     "text": [
      "{'Putta': 'A', 'Jyothi': 'B', 'Lahari': 'c'}\n"
     ]
    }
   ],
   "source": [
    "print(dict)"
   ]
  },
  {
   "cell_type": "markdown",
   "id": "7797cd43",
   "metadata": {},
   "source": [
    "Write a Python program to handle exceptions when dividing a number by zero."
   ]
  },
  {
   "cell_type": "code",
   "execution_count": 42,
   "id": "09dc463c",
   "metadata": {},
   "outputs": [
    {
     "name": "stdout",
     "output_type": "stream",
     "text": [
      "Enter the numerator: 6\n",
      "Enter the denominator: 7\n",
      "Result of division: 0.8571428571428571\n"
     ]
    }
   ],
   "source": [
    "def divide_numbers(numerator, denominator):\n",
    "    try:\n",
    "        result = num/ denom\n",
    "        print(\"Result of division:\", result)\n",
    "    except ZeroDivisionError:\n",
    "        print(\"Error: Cannot divide by zero\")\n",
    "\n",
    "num = int(input(\"Enter the numerator: \"))\n",
    "denom = int(input(\"Enter the denominator: \"))\n",
    "\n",
    "divide_numbers(numerator, denominator)\n"
   ]
  },
  {
   "cell_type": "code",
   "execution_count": 1,
   "id": "528c9741",
   "metadata": {},
   "outputs": [
    {
     "name": "stdout",
     "output_type": "stream",
     "text": [
      "Hello world\n"
     ]
    }
   ],
   "source": [
    "print(\"Hello world\")"
   ]
  },
  {
   "cell_type": "code",
   "execution_count": 2,
   "id": "4112aef5",
   "metadata": {},
   "outputs": [
    {
     "name": "stdout",
     "output_type": "stream",
     "text": [
      "5\n"
     ]
    }
   ],
   "source": [
    "a = 5\n",
    "print(a)"
   ]
  },
  {
   "cell_type": "code",
   "execution_count": 4,
   "id": "106a6cb9",
   "metadata": {},
   "outputs": [
    {
     "name": "stdout",
     "output_type": "stream",
     "text": [
      "enter a wordmadam\n",
      "madam is a palindrome\n"
     ]
    }
   ],
   "source": [
    "def palindrome(word):\n",
    "    if word == word[::-1]:\n",
    "        return True\n",
    "    else:\n",
    "        return False\n",
    "word=input(\"enter a word\")\n",
    "if palindrome(word):\n",
    "    print(f\"{word} is a palindrome\")\n",
    "else:\n",
    "    print(f\"{word} is not a palindrome\")"
   ]
  },
  {
   "cell_type": "code",
   "execution_count": 1,
   "id": "f299b948",
   "metadata": {},
   "outputs": [
    {
     "name": "stdout",
     "output_type": "stream",
     "text": [
      "Enter a number: 6\n",
      "Factorial of 6 is 720\n"
     ]
    }
   ],
   "source": [
    "def factorial(n):\n",
    "    if n == 0:\n",
    "        return 1\n",
    "    else:\n",
    "        return n * factorial(n-1)\n",
    "\n",
    "number = int(input(\"Enter a number: \"))\n",
    "print(\"Factorial of\", number, \"is\", factorial(number))\n"
   ]
  },
  {
   "cell_type": "code",
   "execution_count": 2,
   "id": "d64a696c",
   "metadata": {},
   "outputs": [
    {
     "name": "stdout",
     "output_type": "stream",
     "text": [
      "Enter a string: Lahari\n",
      "Reversed string: irahaL\n"
     ]
    }
   ],
   "source": [
    "def reverse_string(s):\n",
    "    return s[::-1]\n",
    "\n",
    "string = input(\"Enter a string: \")\n",
    "print(\"Reversed string:\", reverse_string(string))\n"
   ]
  },
  {
   "cell_type": "code",
   "execution_count": 7,
   "id": "ecfa5fc9",
   "metadata": {},
   "outputs": [
    {
     "name": "stdout",
     "output_type": "stream",
     "text": [
      "File content:\n",
      "Name,age,Experience,Salary\n",
      "Krish,31,10,30000\n",
      "Sudhanshu,30,8,25000\n",
      "Sunny,29,4,20000\n",
      "Paul,24,3,20000\n",
      "Harsha,21,1,15000\n",
      "Shubham,23,2,18000\n",
      "\n"
     ]
    }
   ],
   "source": [
    "try:\n",
    "    with open(\"test1.csv\", \"r\") as file:\n",
    "        content = file.read()\n",
    "        print(\"File content:\")\n",
    "        print(content)\n",
    "except FileNotFoundError:\n",
    "    print(\"File not found!\")\n"
   ]
  },
  {
   "cell_type": "code",
   "execution_count": 8,
   "id": "85f2a517",
   "metadata": {},
   "outputs": [
    {
     "name": "stdout",
     "output_type": "stream",
     "text": [
      "File not found!\n"
     ]
    }
   ],
   "source": [
    "try:\n",
    "    with open(\"test.txt\", \"r\") as file:\n",
    "        content = file.read()\n",
    "        print(\"File content:\")\n",
    "        print(content)\n",
    "except FileNotFoundError:\n",
    "    print(\"File not found!\")\n"
   ]
  },
  {
   "cell_type": "code",
   "execution_count": 15,
   "id": "9a21c7e0",
   "metadata": {},
   "outputs": [],
   "source": [
    "import math"
   ]
  },
  {
   "cell_type": "code",
   "execution_count": 16,
   "id": "27d8bbfe",
   "metadata": {},
   "outputs": [],
   "source": [
    "radius = 5"
   ]
  },
  {
   "cell_type": "code",
   "execution_count": 17,
   "id": "b75e945f",
   "metadata": {},
   "outputs": [],
   "source": [
    "area_of_circle = math.pi * radius ** 2"
   ]
  },
  {
   "cell_type": "code",
   "execution_count": 19,
   "id": "1634ece9",
   "metadata": {},
   "outputs": [
    {
     "name": "stdout",
     "output_type": "stream",
     "text": [
      "area of circle with radius of 5 is :78.53981633974483\n"
     ]
    }
   ],
   "source": [
    "print(f\"area of circle with radius of {radius} is :{area_of_circle}\")"
   ]
  },
  {
   "cell_type": "code",
   "execution_count": 27,
   "id": "4de6f49a",
   "metadata": {},
   "outputs": [
    {
     "name": "stdout",
     "output_type": "stream",
     "text": [
      "area of circle with radius of 10 is: 314.1592653589793\n"
     ]
    }
   ],
   "source": [
    "def area_of_circle(radius):\n",
    "    return math.pi * radius ** 2\n",
    "\n",
    "radius = 10\n",
    "area = area_of_circle(radius)\n",
    "print(f\"area of circle with radius of {radius} is: {area}\")"
   ]
  },
  {
   "cell_type": "code",
   "execution_count": 34,
   "id": "a0168ec0",
   "metadata": {},
   "outputs": [
    {
     "name": "stdout",
     "output_type": "stream",
     "text": [
      "Key does not exist in dict!!\n"
     ]
    }
   ],
   "source": [
    "try:\n",
    "    dict = {\"Putta\":\"A\",\"Jyothi\":\"B\",\"Lahari\":\"c\"}\n",
    "    val=dict[d]\n",
    "    print(\"val\")\n",
    "except:\n",
    "    print(f\"Key does not exist in dict!!\")\n",
    "    "
   ]
  },
  {
   "cell_type": "code",
   "execution_count": 8,
   "id": "ceb0e6f6",
   "metadata": {},
   "outputs": [],
   "source": [
    "def binarySearch(a,low, high,x):\n",
    "    if low < high:\n",
    "        mid = (low + high)//2\n",
    "        \n",
    "        if x < a[mid]:\n",
    "            binarySearch(a,low,mid-1,x)\n",
    "        elif x > a[mid]:\n",
    "            binarySearch(a,mid+1,high,x)\n",
    "        elif x == a[mid]:\n",
    "            print(f'{x} is found at {mid} position')\n",
    "            return\n",
    "    else:\n",
    "        print(f'{x} not available')\n",
    "        return"
   ]
  },
  {
   "cell_type": "code",
   "execution_count": 9,
   "id": "b1ad8e81",
   "metadata": {},
   "outputs": [],
   "source": [
    "a = [10,20,30,40,50,60]"
   ]
  },
  {
   "cell_type": "code",
   "execution_count": 10,
   "id": "6d9ec98b",
   "metadata": {},
   "outputs": [
    {
     "name": "stdout",
     "output_type": "stream",
     "text": [
      "30 is found at 2 position\n"
     ]
    }
   ],
   "source": [
    "binarySearch(a,0,len(a)-1,30)"
   ]
  },
  {
   "cell_type": "code",
   "execution_count": 14,
   "id": "23d134ad",
   "metadata": {},
   "outputs": [
    {
     "name": "stdout",
     "output_type": "stream",
     "text": [
      "Value at index 3 is: 4\n"
     ]
    }
   ],
   "source": [
    "try:\n",
    "    list = [1, 2, 3,4,5,6,7]\n",
    "    index = 3\n",
    "    value = list[index]\n",
    "    print(\"Value at index\", index, \"is:\", value)\n",
    "except IndexError:\n",
    "    print(\"Index out of bounds.\")\n"
   ]
  },
  {
   "cell_type": "code",
   "execution_count": 18,
   "id": "574c9b57",
   "metadata": {},
   "outputs": [
    {
     "name": "stdout",
     "output_type": "stream",
     "text": [
      "2 raised to the power of 3 is: 8\n"
     ]
    }
   ],
   "source": [
    "def power(base, exponent):\n",
    "    if exponent == 0:\n",
    "        return 1\n",
    "    elif exponent == 1:\n",
    "        return base\n",
    "    else:\n",
    "        return base * power(base, exponent - 1)\n",
    "\n",
    "base = 2\n",
    "exponent = 3\n",
    "print(f\"{base} raised to the power of {exponent} is:\", power(base, exponent))\n"
   ]
  },
  {
   "cell_type": "code",
   "execution_count": 8,
   "id": "cf9435e6",
   "metadata": {},
   "outputs": [
    {
     "name": "stdout",
     "output_type": "stream",
     "text": [
      "Sorted array: [3, 5, 6, 7, 11]\n"
     ]
    }
   ],
   "source": [
    "def insertion_sort(arr):\n",
    "    for i in range(1, len(arr)):\n",
    "        key = arr[i]\n",
    "        j = i - 1\n",
    "        while j >= 0 and key < arr[j]:\n",
    "            arr[j + 1] = arr[j]\n",
    "            j -= 1\n",
    "        arr[j + 1] = key\n",
    "\n",
    "arr = [3,5,6,7, 11]\n",
    "insertion_sort(arr)\n",
    "print(\"Sorted array:\", arr)\n"
   ]
  },
  {
   "cell_type": "code",
   "execution_count": null,
   "id": "1805cfbf",
   "metadata": {},
   "outputs": [],
   "source": []
  },
  {
   "cell_type": "code",
   "execution_count": null,
   "id": "24668818",
   "metadata": {},
   "outputs": [],
   "source": []
  }
 ],
 "metadata": {
  "kernelspec": {
   "display_name": "Python 3 (ipykernel)",
   "language": "python",
   "name": "python3"
  },
  "language_info": {
   "codemirror_mode": {
    "name": "ipython",
    "version": 3
   },
   "file_extension": ".py",
   "mimetype": "text/x-python",
   "name": "python",
   "nbconvert_exporter": "python",
   "pygments_lexer": "ipython3",
   "version": "3.11.6"
  }
 },
 "nbformat": 4,
 "nbformat_minor": 5
}
