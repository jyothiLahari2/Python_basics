{
 "cells": [
  {
   "cell_type": "markdown",
   "id": "981ba276",
   "metadata": {},
   "source": [
    "Write a program that uses an if statement to check if a variable x is equal to 10. If it is, print \"x is equal to 10\"."
   ]
  },
  {
   "cell_type": "code",
   "execution_count": 7,
   "id": "29202ba5",
   "metadata": {},
   "outputs": [
    {
     "name": "stdout",
     "output_type": "stream",
     "text": [
      "x is equal to 10\n"
     ]
    }
   ],
   "source": [
    "x = 10\n",
    "\n",
    "if x == 10:\n",
    "    print(\"x is equal to 10\")\n"
   ]
  },
  {
   "cell_type": "markdown",
   "id": "02de326c",
   "metadata": {},
   "source": [
    "Write a program that uses a for loop to print the even numbers from 2 to 10."
   ]
  },
  {
   "cell_type": "code",
   "execution_count": 10,
   "id": "df5f2d36",
   "metadata": {},
   "outputs": [
    {
     "name": "stdout",
     "output_type": "stream",
     "text": [
      "2\n",
      "4\n",
      "6\n",
      "8\n",
      "10\n"
     ]
    }
   ],
   "source": [
    "for x in range(2,11,2):\n",
    "    print(x)"
   ]
  },
  {
   "cell_type": "markdown",
   "id": "f272e5d7",
   "metadata": {},
   "source": [
    "⁠Write a program that uses the range() function to print the numbers from 1 to 10."
   ]
  },
  {
   "cell_type": "code",
   "execution_count": 11,
   "id": "b862015a",
   "metadata": {},
   "outputs": [
    {
     "name": "stdout",
     "output_type": "stream",
     "text": [
      "1\n",
      "2\n",
      "3\n",
      "4\n",
      "5\n",
      "6\n",
      "7\n",
      "8\n",
      "9\n",
      "10\n"
     ]
    }
   ],
   "source": [
    "for x in range(1,11):\n",
    "    print(x)"
   ]
  },
  {
   "cell_type": "markdown",
   "id": "a46143f6",
   "metadata": {},
   "source": [
    "⁠Write a program that uses a while loop to continuously ask the user to input a number until the user inputs the number 5. Once the user inputs 5, print \"You guessed the number!\"."
   ]
  },
  {
   "cell_type": "markdown",
   "id": "80db5ec3",
   "metadata": {},
   "source": [
    "⁠Write a program that uses a for loop to calculate the sum of the numbers in a list of integers."
   ]
  },
  {
   "cell_type": "code",
   "execution_count": 17,
   "id": "e88983a5",
   "metadata": {},
   "outputs": [
    {
     "name": "stdout",
     "output_type": "stream",
     "text": [
      "sum of numbers: 36\n"
     ]
    }
   ],
   "source": [
    "x = [1,2,3,4,5,6,7,8]\n",
    "\n",
    "Sum = 0\n",
    "\n",
    "for num in x:\n",
    "    Sum += num\n",
    "print(\"sum of numbers:\", Sum)"
   ]
  },
  {
   "cell_type": "markdown",
   "id": "06094c84",
   "metadata": {},
   "source": [
    "Write a program that uses an if-elif-else statement to print \"Positive\" if a number is greater than 0, \"Negative\" if a number is less than 0, and \"Zero\" if a number is equal to 0."
   ]
  },
  {
   "cell_type": "code",
   "execution_count": 21,
   "id": "127e1367",
   "metadata": {},
   "outputs": [
    {
     "name": "stdout",
     "output_type": "stream",
     "text": [
      "enter a number5\n",
      "Positive\n"
     ]
    }
   ],
   "source": [
    "x = int(input(\"enter a number\"))\n",
    "\n",
    "if x > 0:\n",
    "    print(\"Positive\")\n",
    "elif x < 0:\n",
    "    print(\"Negative\")\n",
    "else:\n",
    "    print(\"zero\")"
   ]
  },
  {
   "cell_type": "markdown",
   "id": "32d86ce6",
   "metadata": {},
   "source": [
    "⁠Write a program that uses a while loop to print the numbers from 1 to 10."
   ]
  },
  {
   "cell_type": "code",
   "execution_count": 22,
   "id": "3679d92b",
   "metadata": {},
   "outputs": [
    {
     "name": "stdout",
     "output_type": "stream",
     "text": [
      "1\n",
      "2\n",
      "3\n",
      "4\n",
      "5\n",
      "6\n",
      "7\n",
      "8\n",
      "9\n",
      "10\n"
     ]
    }
   ],
   "source": [
    "x = 1\n",
    "while x <= 10:\n",
    "    print(x)\n",
    "    x += 1"
   ]
  },
  {
   "cell_type": "markdown",
   "id": "69597bf5",
   "metadata": {},
   "source": [
    "Write a program that uses nested loops to print a multiplication table from 1 to 10."
   ]
  },
  {
   "cell_type": "code",
   "execution_count": 2,
   "id": "4be8cf91",
   "metadata": {},
   "outputs": [
    {
     "name": "stdout",
     "output_type": "stream",
     "text": [
      "1 * 1 = 11 * 2 = 21 * 3 = 31 * 4 = 41 * 5 = 51 * 6 = 61 * 7 = 71 * 8 = 81 * 9 = 91 * 10 = 10\n",
      "2 * 1 = 22 * 2 = 42 * 3 = 62 * 4 = 82 * 5 = 102 * 6 = 122 * 7 = 142 * 8 = 162 * 9 = 182 * 10 = 20\n",
      "3 * 1 = 33 * 2 = 63 * 3 = 93 * 4 = 123 * 5 = 153 * 6 = 183 * 7 = 213 * 8 = 243 * 9 = 273 * 10 = 30\n",
      "4 * 1 = 44 * 2 = 84 * 3 = 124 * 4 = 164 * 5 = 204 * 6 = 244 * 7 = 284 * 8 = 324 * 9 = 364 * 10 = 40\n",
      "5 * 1 = 55 * 2 = 105 * 3 = 155 * 4 = 205 * 5 = 255 * 6 = 305 * 7 = 355 * 8 = 405 * 9 = 455 * 10 = 50\n",
      "6 * 1 = 66 * 2 = 126 * 3 = 186 * 4 = 246 * 5 = 306 * 6 = 366 * 7 = 426 * 8 = 486 * 9 = 546 * 10 = 60\n",
      "7 * 1 = 77 * 2 = 147 * 3 = 217 * 4 = 287 * 5 = 357 * 6 = 427 * 7 = 497 * 8 = 567 * 9 = 637 * 10 = 70\n",
      "8 * 1 = 88 * 2 = 168 * 3 = 248 * 4 = 328 * 5 = 408 * 6 = 488 * 7 = 568 * 8 = 648 * 9 = 728 * 10 = 80\n",
      "9 * 1 = 99 * 2 = 189 * 3 = 279 * 4 = 369 * 5 = 459 * 6 = 549 * 7 = 639 * 8 = 729 * 9 = 819 * 10 = 90\n",
      "10 * 1 = 1010 * 2 = 2010 * 3 = 3010 * 4 = 4010 * 5 = 5010 * 6 = 6010 * 7 = 7010 * 8 = 8010 * 9 = 9010 * 10 = 100\n"
     ]
    }
   ],
   "source": [
    "for i in range(1,11):\n",
    "    for j in range(1,11):\n",
    "        product = i * j\n",
    "        print(f\"{i} * {j} = {product}\",end = \"\")\n",
    "    print()"
   ]
  },
  {
   "cell_type": "markdown",
   "id": "2b2ceba1",
   "metadata": {},
   "source": [
    "Write a program that imports the math module and calculates the square root of 16."
   ]
  },
  {
   "cell_type": "code",
   "execution_count": 41,
   "id": "92e30c35",
   "metadata": {},
   "outputs": [
    {
     "name": "stdout",
     "output_type": "stream",
     "text": [
      "square root of 16 4.0\n"
     ]
    }
   ],
   "source": [
    "import math\n",
    "\n",
    "x = math.sqrt(16)\n",
    "print(\"square root of 16\",x)"
   ]
  },
  {
   "cell_type": "markdown",
   "id": "f1fd3cb3",
   "metadata": {},
   "source": [
    "Write a program that asks the user to input a number and prints \"Even\" if the number is even and \"Odd\" if the number is odd."
   ]
  },
  {
   "cell_type": "code",
   "execution_count": 44,
   "id": "050073f1",
   "metadata": {},
   "outputs": [
    {
     "name": "stdout",
     "output_type": "stream",
     "text": [
      "enter a number: 7\n",
      " the number is odd\n"
     ]
    }
   ],
   "source": [
    "x = int(input(\"enter a number: \"))\n",
    "\n",
    "if x % 2 == 0:\n",
    "    print(\"the number is even\")\n",
    "else:\n",
    "    print(\" the number is odd\")"
   ]
  },
  {
   "cell_type": "markdown",
   "id": "b256f08d",
   "metadata": {},
   "source": [
    "⁠⁠Write a program that asks the user to input two numbers and prints the larger of the two numbers."
   ]
  },
  {
   "cell_type": "code",
   "execution_count": 47,
   "id": "f4f0af42",
   "metadata": {},
   "outputs": [
    {
     "name": "stdout",
     "output_type": "stream",
     "text": [
      "enter a number6\n",
      "enter a number8\n",
      "the larger of two numbers is : 8.0\n"
     ]
    }
   ],
   "source": [
    "x = float(input(\"enter a number\"))\n",
    "y = float(input(\"enter a number\"))\n",
    "\n",
    "if x > y:\n",
    "    print(\"the larger of two numbers is:\",x)\n",
    "elif y > x:\n",
    "    print(\"the larger of two numbers is :\",y)\n",
    "else:\n",
    "    print(\"both numbers are equal\")"
   ]
  },
  {
   "cell_type": "markdown",
   "id": "d0723956",
   "metadata": {},
   "source": [
    "Write a program that asks the user to input a list of numbers and prints the sum of the numbers in the list."
   ]
  },
  {
   "cell_type": "code",
   "execution_count": 61,
   "id": "e45321aa",
   "metadata": {},
   "outputs": [
    {
     "name": "stdout",
     "output_type": "stream",
     "text": [
      "sum of numbers:  36\n"
     ]
    }
   ],
   "source": [
    "x= [1,2,3,4,5,6,7,8]\n",
    "sum = 0\n",
    "for i in x:\n",
    "    sum += i\n",
    "print(\"sum of numbers: \",sum)"
   ]
  },
  {
   "cell_type": "markdown",
   "id": "d68f1a6e",
   "metadata": {},
   "source": [
    "Write a program that asks the user to input a list of numbers and prints the average of the numbers in the list."
   ]
  },
  {
   "cell_type": "code",
   "execution_count": 62,
   "id": "a888b6c7",
   "metadata": {},
   "outputs": [
    {
     "ename": "TypeError",
     "evalue": "'builtin_function_or_method' object is not subscriptable",
     "output_type": "error",
     "traceback": [
      "\u001b[0;31m---------------------------------------------------------------------------\u001b[0m",
      "\u001b[0;31mTypeError\u001b[0m                                 Traceback (most recent call last)",
      "Cell \u001b[0;32mIn[62], line 4\u001b[0m\n\u001b[1;32m      2\u001b[0m \u001b[38;5;28msum\u001b[39m \u001b[38;5;241m=\u001b[39m \u001b[38;5;241m0\u001b[39m\n\u001b[1;32m      3\u001b[0m \u001b[38;5;28;01mfor\u001b[39;00m i \u001b[38;5;129;01min\u001b[39;00m x:\n\u001b[0;32m----> 4\u001b[0m     avg \u001b[38;5;241m=\u001b[39m \u001b[38;5;28msum\u001b[39m\u001b[38;5;241m/\u001b[39m\u001b[38;5;28mlen\u001b[39m[x]\n\u001b[1;32m      5\u001b[0m \u001b[38;5;28mprint\u001b[39m(\u001b[38;5;124m\"\u001b[39m\u001b[38;5;124mavg of number: \u001b[39m\u001b[38;5;124m\"\u001b[39m, avg)\n",
      "\u001b[0;31mTypeError\u001b[0m: 'builtin_function_or_method' object is not subscriptable"
     ]
    }
   ],
   "source": [
    "x= [1,2,3,4,5,6,7,8]\n",
    "sum = 0\n",
    "for i in x:\n",
    "    avg = sum/len[x]\n",
    "print(\"avg of number: \", avg)"
   ]
  },
  {
   "cell_type": "code",
   "execution_count": null,
   "id": "ba56bf8c",
   "metadata": {},
   "outputs": [],
   "source": []
  }
 ],
 "metadata": {
  "kernelspec": {
   "display_name": "Python 3 (ipykernel)",
   "language": "python",
   "name": "python3"
  },
  "language_info": {
   "codemirror_mode": {
    "name": "ipython",
    "version": 3
   },
   "file_extension": ".py",
   "mimetype": "text/x-python",
   "name": "python",
   "nbconvert_exporter": "python",
   "pygments_lexer": "ipython3",
   "version": "3.11.6"
  }
 },
 "nbformat": 4,
 "nbformat_minor": 5
}
