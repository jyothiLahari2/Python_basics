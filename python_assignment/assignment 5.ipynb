{
 "cells": [
  {
   "cell_type": "markdown",
   "id": "2882e34e",
   "metadata": {},
   "source": [
    "⁠Write a Python program to reverse a string.\n"
   ]
  },
  {
   "cell_type": "code",
   "execution_count": 114,
   "id": "e6c1ffe9",
   "metadata": {},
   "outputs": [
    {
     "name": "stdout",
     "output_type": "stream",
     "text": [
      "enter a word: lahari\n"
     ]
    },
    {
     "data": {
      "text/plain": [
       "'irahal'"
      ]
     },
     "execution_count": 114,
     "metadata": {},
     "output_type": "execute_result"
    }
   ],
   "source": [
    "def reverse_function(word):\n",
    "    return word[::-1]\n",
    "    \n",
    "word =input(\"enter a word: \")\n",
    "reverse_function(word)\n"
   ]
  },
  {
   "cell_type": "code",
   "execution_count": 115,
   "id": "2c41b73d",
   "metadata": {},
   "outputs": [
    {
     "data": {
      "text/plain": [
       "'attup'"
      ]
     },
     "execution_count": 115,
     "metadata": {},
     "output_type": "execute_result"
    }
   ],
   "source": [
    "a=\"putta\"\n",
    "a[::-1]"
   ]
  },
  {
   "cell_type": "markdown",
   "id": "8572d982",
   "metadata": {},
   "source": [
    "Create a dictionary mapping names to ages and print the ages.\n"
   ]
  },
  {
   "cell_type": "code",
   "execution_count": 116,
   "id": "42d64c00",
   "metadata": {},
   "outputs": [
    {
     "name": "stdout",
     "output_type": "stream",
     "text": [
      "lahari:45\n",
      "Jyothi:34\n",
      "Putta:35\n"
     ]
    }
   ],
   "source": [
    "dict = {\n",
    "    \"lahari\" : 45,\n",
    "    \"Jyothi\" : 34,\n",
    "    \"Putta\"  : 35\n",
    "}\n",
    "\n",
    "for name , age in dict.items():\n",
    "    print(f\"{name}:{age}\")"
   ]
  },
  {
   "cell_type": "markdown",
   "id": "ff34c1c2",
   "metadata": {},
   "source": [
    "⁠Write a Python program to check if a number is prime or not.\n"
   ]
  },
  {
   "cell_type": "code",
   "execution_count": 118,
   "id": "46aea09c",
   "metadata": {},
   "outputs": [
    {
     "name": "stdout",
     "output_type": "stream",
     "text": [
      "Enter a number: 7\n",
      "7 is a prime number\n"
     ]
    }
   ],
   "source": [
    "def is_prime(n):\n",
    "    if n <= 1:\n",
    "        return False\n",
    "    for i in range(2, int(n**0.5) + 1):\n",
    "        if n % i == 0:\n",
    "            return False\n",
    "    return True\n",
    "\n",
    "n = int(input(\"Enter a number: \"))\n",
    "if is_prime(n):\n",
    "    print(n, \"is a prime number\")\n",
    "else:\n",
    "    print(n, \"is not a prime number\")"
   ]
  },
  {
   "cell_type": "markdown",
   "id": "778b0d42",
   "metadata": {},
   "source": [
    "Perform groupBy and aggregation operations on a PySpark DataFrame.\n"
   ]
  },
  {
   "cell_type": "code",
   "execution_count": 119,
   "id": "546ef663",
   "metadata": {},
   "outputs": [],
   "source": [
    "from pyspark.sql import SparkSession"
   ]
  },
  {
   "cell_type": "code",
   "execution_count": 120,
   "id": "a13c10f1",
   "metadata": {},
   "outputs": [],
   "source": [
    "spark = SparkSession.builder.appName(\"class\").getOrCreate()"
   ]
  },
  {
   "cell_type": "code",
   "execution_count": 121,
   "id": "06181c2b",
   "metadata": {},
   "outputs": [
    {
     "data": {
      "text/html": [
       "\n",
       "            <div>\n",
       "                <p><b>SparkSession - in-memory</b></p>\n",
       "                \n",
       "        <div>\n",
       "            <p><b>SparkContext</b></p>\n",
       "\n",
       "            <p><a href=\"http://192.168.101.161:4040\">Spark UI</a></p>\n",
       "\n",
       "            <dl>\n",
       "              <dt>Version</dt>\n",
       "                <dd><code>v3.5.1</code></dd>\n",
       "              <dt>Master</dt>\n",
       "                <dd><code>local[*]</code></dd>\n",
       "              <dt>AppName</dt>\n",
       "                <dd><code>class</code></dd>\n",
       "            </dl>\n",
       "        </div>\n",
       "        \n",
       "            </div>\n",
       "        "
      ],
      "text/plain": [
       "<pyspark.sql.session.SparkSession at 0x168eb6550>"
      ]
     },
     "execution_count": 121,
     "metadata": {},
     "output_type": "execute_result"
    }
   ],
   "source": [
    "spark"
   ]
  },
  {
   "cell_type": "code",
   "execution_count": 122,
   "id": "2ef181ad",
   "metadata": {},
   "outputs": [],
   "source": [
    "data = [\n",
    "    ('lahari',27,'de',10000),\n",
    "    ('putta',24,'java',20000),\n",
    "    ('karthik','25','sde',30000),\n",
    "    ('deekshit',20,'python',25000),\n",
    "    ('lavanya',28,'doctor',40000)\n",
    "]"
   ]
  },
  {
   "cell_type": "code",
   "execution_count": 123,
   "id": "d6b4e776",
   "metadata": {},
   "outputs": [],
   "source": [
    "columns=[\"Name\",\"Age\",\"Role\",\"Salary\"]"
   ]
  },
  {
   "cell_type": "code",
   "execution_count": 124,
   "id": "c2e3591c",
   "metadata": {},
   "outputs": [],
   "source": [
    "data=spark.createDataFrame(data,columns)"
   ]
  },
  {
   "cell_type": "code",
   "execution_count": 125,
   "id": "5f3a95ca",
   "metadata": {},
   "outputs": [
    {
     "name": "stdout",
     "output_type": "stream",
     "text": [
      "+--------+---+------+------+\n",
      "|    Name|Age|  Role|Salary|\n",
      "+--------+---+------+------+\n",
      "|  lahari| 27|    de| 10000|\n",
      "|   putta| 24|  java| 20000|\n",
      "| karthik| 25|   sde| 30000|\n",
      "|deekshit| 20|python| 25000|\n",
      "| lavanya| 28|doctor| 40000|\n",
      "+--------+---+------+------+\n",
      "\n"
     ]
    }
   ],
   "source": [
    "data.show()"
   ]
  },
  {
   "cell_type": "code",
   "execution_count": 126,
   "id": "7c3ae6e1",
   "metadata": {},
   "outputs": [
    {
     "name": "stdout",
     "output_type": "stream",
     "text": [
      "+--------+-----------+\n",
      "|    Name|sum(Salary)|\n",
      "+--------+-----------+\n",
      "|  lahari|      10000|\n",
      "|   putta|      20000|\n",
      "| karthik|      30000|\n",
      "|deekshit|      25000|\n",
      "| lavanya|      40000|\n",
      "+--------+-----------+\n",
      "\n"
     ]
    }
   ],
   "source": [
    "data.groupby('Name').sum().show()"
   ]
  },
  {
   "cell_type": "code",
   "execution_count": 127,
   "id": "03655aa8",
   "metadata": {},
   "outputs": [
    {
     "name": "stdout",
     "output_type": "stream",
     "text": [
      "+---+-----+\n",
      "|age|count|\n",
      "+---+-----+\n",
      "| 27|    1|\n",
      "| 24|    1|\n",
      "| 25|    1|\n",
      "| 20|    1|\n",
      "| 28|    1|\n",
      "+---+-----+\n",
      "\n"
     ]
    }
   ],
   "source": [
    "data.groupby('age').count().show()"
   ]
  },
  {
   "cell_type": "code",
   "execution_count": 128,
   "id": "d56b7b77",
   "metadata": {},
   "outputs": [
    {
     "name": "stdout",
     "output_type": "stream",
     "text": [
      "+------+-----------+\n",
      "|  Role|avg(Salary)|\n",
      "+------+-----------+\n",
      "|    de|    10000.0|\n",
      "|  java|    20000.0|\n",
      "|   sde|    30000.0|\n",
      "|python|    25000.0|\n",
      "|doctor|    40000.0|\n",
      "+------+-----------+\n",
      "\n"
     ]
    }
   ],
   "source": [
    "data.groupby('Role').avg().show()"
   ]
  },
  {
   "cell_type": "markdown",
   "id": "1f7e1c39",
   "metadata": {},
   "source": [
    "Join two PySpark DataFrames based on a common column.\n"
   ]
  },
  {
   "cell_type": "code",
   "execution_count": 129,
   "id": "1f50c2b4",
   "metadata": {},
   "outputs": [
    {
     "name": "stdout",
     "output_type": "stream",
     "text": [
      "+--------+---+------+------+\n",
      "|    Name|Age|  Role|Salary|\n",
      "+--------+---+------+------+\n",
      "|  lahari| 27|    de| 10000|\n",
      "|   putta| 24|  java| 20000|\n",
      "| karthik| 25|   sde| 30000|\n",
      "|deekshit| 20|python| 25000|\n",
      "| lavanya| 28|doctor| 40000|\n",
      "+--------+---+------+------+\n",
      "\n"
     ]
    }
   ],
   "source": [
    "data.show()"
   ]
  },
  {
   "cell_type": "code",
   "execution_count": 130,
   "id": "bb6e52e2",
   "metadata": {},
   "outputs": [],
   "source": [
    "data2 = [\n",
    "    ('lahari','IT'),\n",
    "    ('putta','IT'),\n",
    "    ('Jyothi','Non-IT'),\n",
    "    ('deekshit','IT'),\n",
    "    ('lavanya','Medical')\n",
    "    \n",
    "]"
   ]
  },
  {
   "cell_type": "code",
   "execution_count": 131,
   "id": "4e4b5076",
   "metadata": {},
   "outputs": [],
   "source": [
    "columns=('Name','Department')"
   ]
  },
  {
   "cell_type": "code",
   "execution_count": 132,
   "id": "42e00aa5",
   "metadata": {},
   "outputs": [],
   "source": [
    "data2=spark.createDataFrame(data2,columns)"
   ]
  },
  {
   "cell_type": "code",
   "execution_count": 133,
   "id": "1b7f6e57",
   "metadata": {},
   "outputs": [
    {
     "name": "stdout",
     "output_type": "stream",
     "text": [
      "+--------+----------+\n",
      "|    Name|Department|\n",
      "+--------+----------+\n",
      "|  lahari|        IT|\n",
      "|   putta|        IT|\n",
      "|  Jyothi|    Non-IT|\n",
      "|deekshit|        IT|\n",
      "| lavanya|   Medical|\n",
      "+--------+----------+\n",
      "\n"
     ]
    }
   ],
   "source": [
    "data2.show()"
   ]
  },
  {
   "cell_type": "code",
   "execution_count": 134,
   "id": "82f43016",
   "metadata": {},
   "outputs": [],
   "source": [
    "result = data.join(data2, on='Name',how='inner')"
   ]
  },
  {
   "cell_type": "code",
   "execution_count": 135,
   "id": "e19225da",
   "metadata": {},
   "outputs": [
    {
     "name": "stdout",
     "output_type": "stream",
     "text": [
      "+--------+---+------+------+----------+\n",
      "|    Name|Age|  Role|Salary|Department|\n",
      "+--------+---+------+------+----------+\n",
      "|deekshit| 20|python| 25000|        IT|\n",
      "|  lahari| 27|    de| 10000|        IT|\n",
      "| lavanya| 28|doctor| 40000|   Medical|\n",
      "|   putta| 24|  java| 20000|        IT|\n",
      "+--------+---+------+------+----------+\n",
      "\n"
     ]
    }
   ],
   "source": [
    "result.show()"
   ]
  },
  {
   "cell_type": "markdown",
   "id": "ba903994",
   "metadata": {},
   "source": [
    "⁠Apply a user-defined function to a column in a PySpark DataFrame."
   ]
  },
  {
   "cell_type": "code",
   "execution_count": 139,
   "id": "fb3080f5",
   "metadata": {},
   "outputs": [],
   "source": [
    "data = [(\"lahari\", 27, \"de\", 10000),\n",
    "        (\"putta\", 24, \"java\", 20000),\n",
    "        (\"karthik\", 25, \"sde\", 30000),\n",
    "        (\"deekshit\", 20, \"python\", 25000),\n",
    "        (\"lavanya\", 28, \"doctor\", 40000)]\n",
    "columns = [\"Name\", \"Age\", \"Role\", \"Salary\"]\n",
    "df = spark.createDataFrame(data, columns)"
   ]
  },
  {
   "cell_type": "code",
   "execution_count": 140,
   "id": "3762c6e7",
   "metadata": {},
   "outputs": [],
   "source": [
    "def double_age(age):\n",
    "    return age * 3\n",
    "\n",
    "\n",
    "udf_double_age = udf(double_age, IntegerType())\n",
    "result = df.withColumn(\"DoubleAge\", udf_double_age(col(\"Age\")))"
   ]
  },
  {
   "cell_type": "code",
   "execution_count": 141,
   "id": "d3b56637",
   "metadata": {},
   "outputs": [
    {
     "name": "stdout",
     "output_type": "stream",
     "text": [
      "+--------+---+------+------+---------+\n",
      "|    Name|Age|  Role|Salary|DoubleAge|\n",
      "+--------+---+------+------+---------+\n",
      "|  lahari| 27|    de| 10000|       81|\n",
      "|   putta| 24|  java| 20000|       72|\n",
      "| karthik| 25|   sde| 30000|       75|\n",
      "|deekshit| 20|python| 25000|       60|\n",
      "| lavanya| 28|doctor| 40000|       84|\n",
      "+--------+---+------+------+---------+\n",
      "\n"
     ]
    }
   ],
   "source": [
    "result.show()"
   ]
  },
  {
   "cell_type": "code",
   "execution_count": 142,
   "id": "6bf44c8d",
   "metadata": {},
   "outputs": [],
   "source": [
    "spark.stop()"
   ]
  },
  {
   "cell_type": "markdown",
   "id": "8369d46a",
   "metadata": {},
   "source": [
    "⁠Write a Python program to find the area of a triangle given its three sides.\n"
   ]
  },
  {
   "cell_type": "code",
   "execution_count": 159,
   "id": "d79cd0e4",
   "metadata": {},
   "outputs": [],
   "source": [
    "def area_of_triangle(side1,side2,side3):\n",
    "    s = (side1+side2+side3)/2\n",
    "    area = (s*(s-side1)*(s-side2)*(s-side3))**0.5\n",
    "    return area"
   ]
  },
  {
   "cell_type": "code",
   "execution_count": 161,
   "id": "21cc35cf",
   "metadata": {},
   "outputs": [
    {
     "name": "stdout",
     "output_type": "stream",
     "text": [
      "enter a number:4\n",
      "enter a number:5\n",
      "enter a number:6\n",
      "enter a area triangle: 9.921567416492215\n"
     ]
    }
   ],
   "source": [
    "side1=float(input(\"enter a number:\"))\n",
    "side2=float(input(\"enter a number:\"))\n",
    "side3=float(input(\"enter a number:\"))\n",
    "area_triangle = area_of_triangle(side1,side2,side3)\n",
    "print(\"enter a area triangle:\",area_triangle)"
   ]
  },
  {
   "cell_type": "code",
   "execution_count": null,
   "id": "9bedfd64",
   "metadata": {},
   "outputs": [],
   "source": []
  }
 ],
 "metadata": {
  "kernelspec": {
   "display_name": "Python 3 (ipykernel)",
   "language": "python",
   "name": "python3"
  },
  "language_info": {
   "codemirror_mode": {
    "name": "ipython",
    "version": 3
   },
   "file_extension": ".py",
   "mimetype": "text/x-python",
   "name": "python",
   "nbconvert_exporter": "python",
   "pygments_lexer": "ipython3",
   "version": "3.11.6"
  }
 },
 "nbformat": 4,
 "nbformat_minor": 5
}
